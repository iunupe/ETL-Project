{
 "cells": [
  {
   "cell_type": "markdown",
   "metadata": {},
   "source": [
    "## Data Cleanup & Analysis\n",
    "\n",
    "Once you have identified your datasets, perform ETL on the data. Make sure to plan and document the following:\n",
    "\n",
    "* The sources of data that you will extract from.\n",
    "\n",
    "* The type of transformation needed for this data (cleaning, joining, filtering, aggregating, etc).\n",
    "\n",
    "* The type of final production database to load the data into (relational or non-relational).\n",
    "\n",
    "* The final tables or collections that will be used in the production database.\n",
    "\n",
    "You will be required to submit a final technical report with the above information and steps required to reproduce your ETL process."
   ]
  },
  {
   "cell_type": "markdown",
   "metadata": {},
   "source": [
    "Sources of data:\n",
    "https://www.kaggle.com/stackoverflow/so-survey-2017¶\n",
    "https://www.kaggle.com/stackoverflow/stack-overflow-2018-developer-survey\n",
    "https://www.kaggle.com/mchirico/stack-overflow-developer-survey-results-2019"
   ]
  },
  {
   "cell_type": "markdown",
   "metadata": {},
   "source": [
    "The type of transformation needed for this data (cleaning, joining, filtering, aggregating, etc).\n",
    "\n",
    "- Cleaned data - dropped NA's\n",
    "- Inspect column names to find column names that contained the same info across all three years\n",
    "- Filtered data - filtered only for columns that we wanted:\n",
    "'id','gender','race','country','education_level','undergrad_major','years_coding','dev_type','salary'\n",
    "- Renamed columns to be uniform across all 3 years (2017-2019)\n",
    "\n",
    "The type of final production database to load the data into (relational or non-relational).\n",
    "- Relational database (.sql)\n",
    "\n",
    "The final tables or collections that will be used in the production database.\n",
    "- SQL Database: 'stackoverflow_survey_db'\n",
    "- Tables within DB: 'survey_2017', 'survey_2018', 'survey_2019'"
   ]
  },
  {
   "cell_type": "markdown",
   "metadata": {},
   "source": [
    "## Project Report\n",
    "\n",
    "At the end of the week, your team will submit a Final Report that describes the following:\n",
    "\n",
    "* **E**xtract: your original data sources and how the data was formatted (CSV, JSON, pgAdmin 4, etc).\n",
    "\n",
    "* **T**ransform: what data cleaning or transformation was required.\n",
    "\n",
    "* **L**oad: the final database, tables/collections, and why this was chosen.\n",
    "\n",
    "Please upload the report to Github and submit a link to Bootcampspot."
   ]
  },
  {
   "cell_type": "code",
   "execution_count": null,
   "metadata": {},
   "outputs": [],
   "source": []
  }
 ],
 "metadata": {
  "kernelspec": {
   "display_name": "Python 3",
   "language": "python",
   "name": "python3"
  },
  "language_info": {
   "codemirror_mode": {
    "name": "ipython",
    "version": 3
   },
   "file_extension": ".py",
   "mimetype": "text/x-python",
   "name": "python",
   "nbconvert_exporter": "python",
   "pygments_lexer": "ipython3",
   "version": "3.7.6"
  }
 },
 "nbformat": 4,
 "nbformat_minor": 4
}
