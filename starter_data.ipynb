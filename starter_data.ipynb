{
 "cells": [
  {
   "cell_type": "code",
   "execution_count": 87,
   "metadata": {},
   "outputs": [],
   "source": [
    "import pandas as pd\n",
    "from sqlalchemy import create_engine\n"
   ]
  },
  {
   "cell_type": "markdown",
   "metadata": {},
   "source": [
    "### Data Sources:\n",
    "#### https://www.kaggle.com/stackoverflow/so-survey-2017\n",
    "#### https://www.kaggle.com/stackoverflow/stack-overflow-2018-developer-survey\n",
    "#### https://www.kaggle.com/mchirico/stack-overflow-developer-survey-results-2019"
   ]
  },
  {
   "cell_type": "markdown",
   "metadata": {},
   "source": [
    "### Store 2017 CSV into DataFrame\n"
   ]
  },
  {
   "cell_type": "code",
   "execution_count": 103,
   "metadata": {},
   "outputs": [],
   "source": [
    "# Read in 2017 survey results (.csv) and create raw dataframe\n",
    "\n",
    "csv_file_2017 = \"survey_results_2017.csv\"\n",
    "csv_data_df_2017 = pd.read_csv(csv_file_2017)"
   ]
  },
  {
   "cell_type": "code",
   "execution_count": 89,
   "metadata": {},
   "outputs": [],
   "source": [
    "# Inspect columns\n",
    "\n",
    "columns2017 = csv_data_df_2017.columns.tolist()"
   ]
  },
  {
   "cell_type": "markdown",
   "metadata": {},
   "source": [
    "### Create new 2017 data with select columns"
   ]
  },
  {
   "cell_type": "code",
   "execution_count": 90,
   "metadata": {},
   "outputs": [
    {
     "data": {
      "text/html": [
       "<div>\n",
       "<style scoped>\n",
       "    .dataframe tbody tr th:only-of-type {\n",
       "        vertical-align: middle;\n",
       "    }\n",
       "\n",
       "    .dataframe tbody tr th {\n",
       "        vertical-align: top;\n",
       "    }\n",
       "\n",
       "    .dataframe thead th {\n",
       "        text-align: right;\n",
       "    }\n",
       "</style>\n",
       "<table border=\"1\" class=\"dataframe\">\n",
       "  <thead>\n",
       "    <tr style=\"text-align: right;\">\n",
       "      <th></th>\n",
       "      <th>id</th>\n",
       "      <th>gender</th>\n",
       "      <th>race</th>\n",
       "      <th>country</th>\n",
       "      <th>education_level</th>\n",
       "      <th>undergrad_major</th>\n",
       "      <th>years_coding</th>\n",
       "      <th>dev_type</th>\n",
       "      <th>salary</th>\n",
       "    </tr>\n",
       "  </thead>\n",
       "  <tbody>\n",
       "    <tr>\n",
       "      <th>2</th>\n",
       "      <td>3</td>\n",
       "      <td>Male</td>\n",
       "      <td>White or of European descent</td>\n",
       "      <td>United Kingdom</td>\n",
       "      <td>Bachelor's degree</td>\n",
       "      <td>Computer science or software engineering</td>\n",
       "      <td>20 or more years</td>\n",
       "      <td>Other</td>\n",
       "      <td>113750.000000</td>\n",
       "    </tr>\n",
       "    <tr>\n",
       "      <th>14</th>\n",
       "      <td>15</td>\n",
       "      <td>Male</td>\n",
       "      <td>White or of European descent</td>\n",
       "      <td>United Kingdom</td>\n",
       "      <td>Professional degree</td>\n",
       "      <td>Computer engineering or electrical/electronics...</td>\n",
       "      <td>20 or more years</td>\n",
       "      <td>Embedded applications/devices developer</td>\n",
       "      <td>100000.000000</td>\n",
       "    </tr>\n",
       "    <tr>\n",
       "      <th>17</th>\n",
       "      <td>18</td>\n",
       "      <td>Male</td>\n",
       "      <td>Native American, Pacific Islander, or Indigeno...</td>\n",
       "      <td>United States</td>\n",
       "      <td>Bachelor's degree</td>\n",
       "      <td>Computer science or software engineering</td>\n",
       "      <td>20 or more years</td>\n",
       "      <td>Web developer; Embedded applications/devices d...</td>\n",
       "      <td>130000.000000</td>\n",
       "    </tr>\n",
       "    <tr>\n",
       "      <th>22</th>\n",
       "      <td>23</td>\n",
       "      <td>Male</td>\n",
       "      <td>White or of European descent</td>\n",
       "      <td>Israel</td>\n",
       "      <td>Bachelor's degree</td>\n",
       "      <td>Computer engineering or electrical/electronics...</td>\n",
       "      <td>5 to 6 years</td>\n",
       "      <td>Other</td>\n",
       "      <td>100764.000000</td>\n",
       "    </tr>\n",
       "    <tr>\n",
       "      <th>25</th>\n",
       "      <td>26</td>\n",
       "      <td>Male</td>\n",
       "      <td>White or of European descent</td>\n",
       "      <td>United States</td>\n",
       "      <td>Master's degree</td>\n",
       "      <td>Computer science or software engineering</td>\n",
       "      <td>16 to 17 years</td>\n",
       "      <td>Web developer</td>\n",
       "      <td>175000.000000</td>\n",
       "    </tr>\n",
       "    <tr>\n",
       "      <th>...</th>\n",
       "      <td>...</td>\n",
       "      <td>...</td>\n",
       "      <td>...</td>\n",
       "      <td>...</td>\n",
       "      <td>...</td>\n",
       "      <td>...</td>\n",
       "      <td>...</td>\n",
       "      <td>...</td>\n",
       "      <td>...</td>\n",
       "    </tr>\n",
       "    <tr>\n",
       "      <th>51361</th>\n",
       "      <td>51362</td>\n",
       "      <td>Male</td>\n",
       "      <td>Middle Eastern</td>\n",
       "      <td>India</td>\n",
       "      <td>Some college/university study without earning ...</td>\n",
       "      <td>Computer science or software engineering</td>\n",
       "      <td>2 to 3 years</td>\n",
       "      <td>Web developer; Developer with a statistics or ...</td>\n",
       "      <td>440.463955</td>\n",
       "    </tr>\n",
       "    <tr>\n",
       "      <th>51371</th>\n",
       "      <td>51372</td>\n",
       "      <td>Male</td>\n",
       "      <td>White or of European descent</td>\n",
       "      <td>Netherlands</td>\n",
       "      <td>Bachelor's degree</td>\n",
       "      <td>Computer science or software engineering</td>\n",
       "      <td>5 to 6 years</td>\n",
       "      <td>Web developer; Machine learning specialist; De...</td>\n",
       "      <td>74193.548387</td>\n",
       "    </tr>\n",
       "    <tr>\n",
       "      <th>51382</th>\n",
       "      <td>51383</td>\n",
       "      <td>Male</td>\n",
       "      <td>White or of European descent</td>\n",
       "      <td>France</td>\n",
       "      <td>Master's degree</td>\n",
       "      <td>Computer science or software engineering</td>\n",
       "      <td>1 to 2 years</td>\n",
       "      <td>Web developer</td>\n",
       "      <td>32258.064516</td>\n",
       "    </tr>\n",
       "    <tr>\n",
       "      <th>51387</th>\n",
       "      <td>51388</td>\n",
       "      <td>Male</td>\n",
       "      <td>East Asian; White or of European descent</td>\n",
       "      <td>United States</td>\n",
       "      <td>Bachelor's degree</td>\n",
       "      <td>A social science</td>\n",
       "      <td>1 to 2 years</td>\n",
       "      <td>Web developer; Developer with a statistics or ...</td>\n",
       "      <td>58000.000000</td>\n",
       "    </tr>\n",
       "    <tr>\n",
       "      <th>51390</th>\n",
       "      <td>51391</td>\n",
       "      <td>Male</td>\n",
       "      <td>White or of European descent</td>\n",
       "      <td>United States</td>\n",
       "      <td>Bachelor's degree</td>\n",
       "      <td>Computer science or software engineering</td>\n",
       "      <td>3 to 4 years</td>\n",
       "      <td>Web developer; Mobile developer</td>\n",
       "      <td>40000.000000</td>\n",
       "    </tr>\n",
       "  </tbody>\n",
       "</table>\n",
       "<p>10394 rows × 9 columns</p>\n",
       "</div>"
      ],
      "text/plain": [
       "          id gender                                               race  \\\n",
       "2          3   Male                       White or of European descent   \n",
       "14        15   Male                       White or of European descent   \n",
       "17        18   Male  Native American, Pacific Islander, or Indigeno...   \n",
       "22        23   Male                       White or of European descent   \n",
       "25        26   Male                       White or of European descent   \n",
       "...      ...    ...                                                ...   \n",
       "51361  51362   Male                                     Middle Eastern   \n",
       "51371  51372   Male                       White or of European descent   \n",
       "51382  51383   Male                       White or of European descent   \n",
       "51387  51388   Male           East Asian; White or of European descent   \n",
       "51390  51391   Male                       White or of European descent   \n",
       "\n",
       "              country                                    education_level  \\\n",
       "2      United Kingdom                                  Bachelor's degree   \n",
       "14     United Kingdom                                Professional degree   \n",
       "17      United States                                  Bachelor's degree   \n",
       "22             Israel                                  Bachelor's degree   \n",
       "25      United States                                    Master's degree   \n",
       "...               ...                                                ...   \n",
       "51361           India  Some college/university study without earning ...   \n",
       "51371     Netherlands                                  Bachelor's degree   \n",
       "51382          France                                    Master's degree   \n",
       "51387   United States                                  Bachelor's degree   \n",
       "51390   United States                                  Bachelor's degree   \n",
       "\n",
       "                                         undergrad_major      years_coding  \\\n",
       "2               Computer science or software engineering  20 or more years   \n",
       "14     Computer engineering or electrical/electronics...  20 or more years   \n",
       "17              Computer science or software engineering  20 or more years   \n",
       "22     Computer engineering or electrical/electronics...      5 to 6 years   \n",
       "25              Computer science or software engineering    16 to 17 years   \n",
       "...                                                  ...               ...   \n",
       "51361           Computer science or software engineering      2 to 3 years   \n",
       "51371           Computer science or software engineering      5 to 6 years   \n",
       "51382           Computer science or software engineering      1 to 2 years   \n",
       "51387                                   A social science      1 to 2 years   \n",
       "51390           Computer science or software engineering      3 to 4 years   \n",
       "\n",
       "                                                dev_type         salary  \n",
       "2                                                  Other  113750.000000  \n",
       "14               Embedded applications/devices developer  100000.000000  \n",
       "17     Web developer; Embedded applications/devices d...  130000.000000  \n",
       "22                                                 Other  100764.000000  \n",
       "25                                         Web developer  175000.000000  \n",
       "...                                                  ...            ...  \n",
       "51361  Web developer; Developer with a statistics or ...     440.463955  \n",
       "51371  Web developer; Machine learning specialist; De...   74193.548387  \n",
       "51382                                      Web developer   32258.064516  \n",
       "51387  Web developer; Developer with a statistics or ...   58000.000000  \n",
       "51390                    Web developer; Mobile developer   40000.000000  \n",
       "\n",
       "[10394 rows x 9 columns]"
      ]
     },
     "execution_count": 90,
     "metadata": {},
     "output_type": "execute_result"
    }
   ],
   "source": [
    "# Create new dataFrame with filtered data\n",
    "\n",
    "new_data_df_2017 = csv_data_df_2017[['Respondent','Gender','Race','Country','FormalEducation','MajorUndergrad','YearsCodedJob','DeveloperType','Salary']].copy()\n",
    "\n",
    "# Rename columns to match .sql table\n",
    "\n",
    "new_data_df_2017.columns = ['id','gender','race','country','education_level','undergrad_major','years_coding','dev_type','salary']\n",
    "\n",
    "# Drop NA's\n",
    "\n",
    "new_data_df_2017 = new_data_df_2017.dropna()\n",
    "new_data_df_2017"
   ]
  },
  {
   "cell_type": "markdown",
   "metadata": {},
   "source": [
    "### Store 2018 CSV into DataFrame"
   ]
  },
  {
   "cell_type": "code",
   "execution_count": 91,
   "metadata": {},
   "outputs": [
    {
     "name": "stderr",
     "output_type": "stream",
     "text": [
      "/opt/anaconda3/lib/python3.7/site-packages/IPython/core/interactiveshell.py:3063: DtypeWarning: Columns (8,12,13,14,15,16,50,51,52,53,55,56,57,58,59,60,61,62,63,64,65,66,67,68,69,70,71,72,73,74,75,76,77,78,79,80,81,82,83,84,85,93,94,95,96,97,98,99,100,101,102,103,104,105,106,107,108,109,110,111,112,113,114,115,116,117,118,119,120,121,122,123,124,125,126,127,128) have mixed types.Specify dtype option on import or set low_memory=False.\n",
      "  interactivity=interactivity, compiler=compiler, result=result)\n"
     ]
    }
   ],
   "source": [
    "# Read in 2018 survey results (.csv) and create raw dataframe\n",
    "\n",
    "csv_file_2018 = \"survey_results_2018.csv\"\n",
    "csv_data_df_2018 = pd.read_csv(csv_file_2018)"
   ]
  },
  {
   "cell_type": "code",
   "execution_count": 92,
   "metadata": {},
   "outputs": [],
   "source": [
    "# Inspect columns\n",
    "\n",
    "columns2018 = csv_data_df_2018.columns.tolist()"
   ]
  },
  {
   "cell_type": "markdown",
   "metadata": {},
   "source": [
    "### Create new 2018 data with select columns"
   ]
  },
  {
   "cell_type": "code",
   "execution_count": 93,
   "metadata": {},
   "outputs": [],
   "source": [
    "# Create new dataFrame with filtered data\n",
    "\n",
    "new_data_df_2018 = csv_data_df_2018[['Respondent','Gender','RaceEthnicity','Country','FormalEducation','UndergradMajor','YearsCoding','DevType','Salary']].copy()\n",
    "\n",
    "# Rename columns to match .sql table\n",
    "\n",
    "new_data_df_2018.columns = ['id','gender','race','country','education_level','undergrad_major','years_coding','dev_type','salary']\n",
    "\n",
    "# Drop NA's\n",
    "\n",
    "new_data_df_2018 = new_data_df_2018.dropna()"
   ]
  },
  {
   "cell_type": "markdown",
   "metadata": {},
   "source": [
    "### Store 2019 CSV into DataFrame"
   ]
  },
  {
   "cell_type": "code",
   "execution_count": 94,
   "metadata": {},
   "outputs": [],
   "source": [
    "# Read in 2019 survey results (.csv) and create raw dataframe\n",
    "\n",
    "csv_file_2019 = \"survey_results_2019.csv\"\n",
    "csv_data_df_2019 = pd.read_csv(csv_file_2019)"
   ]
  },
  {
   "cell_type": "code",
   "execution_count": null,
   "metadata": {},
   "outputs": [],
   "source": [
    "# Inspect columns\n",
    "\n",
    "columns2019 = csv_data_df_2019.columns.tolist()"
   ]
  },
  {
   "cell_type": "markdown",
   "metadata": {},
   "source": [
    "### Create new 2019 data with select columns"
   ]
  },
  {
   "cell_type": "code",
   "execution_count": 95,
   "metadata": {},
   "outputs": [],
   "source": [
    "# Create new dataFrame with filtered data\n",
    "\n",
    "new_data_df_2019 = csv_data_df_2019[['Respondent','Gender','Ethnicity','Country','EdLevel','UndergradMajor','YearsCodePro','DevType','CompTotal']].copy()\n",
    "\n",
    "# Rename columns to match .sql table\n",
    "\n",
    "new_data_df_2019.columns = ['id','gender','race','country','education_level','undergrad_major','years_coding','dev_type','salary']\n",
    "\n",
    "# Drop NA's\n",
    "\n",
    "new_data_df_2019 = new_data_df_2019.dropna()"
   ]
  },
  {
   "cell_type": "markdown",
   "metadata": {},
   "source": [
    "### Connect to Local Database"
   ]
  },
  {
   "cell_type": "code",
   "execution_count": 96,
   "metadata": {},
   "outputs": [],
   "source": [
    "rds_connection_string = \"postgres:postgres@localhost:5432/stackoverflow_survey_db\"\n",
    "engine = create_engine(f'postgresql://{rds_connection_string}')"
   ]
  },
  {
   "cell_type": "code",
   "execution_count": 97,
   "metadata": {},
   "outputs": [
    {
     "data": {
      "text/plain": [
       "['survey_2017', 'survey_2018', 'survey_2019']"
      ]
     },
     "execution_count": 97,
     "metadata": {},
     "output_type": "execute_result"
    }
   ],
   "source": [
    "engine.table_names()"
   ]
  },
  {
   "cell_type": "markdown",
   "metadata": {},
   "source": [
    "### Use pandas to load csv converted DataFrame into database"
   ]
  },
  {
   "cell_type": "code",
   "execution_count": 98,
   "metadata": {},
   "outputs": [],
   "source": [
    "new_data_df_2017.to_sql(name='survey_2017', con=engine, if_exists = 'append', index=False)"
   ]
  },
  {
   "cell_type": "code",
   "execution_count": 100,
   "metadata": {},
   "outputs": [],
   "source": [
    "new_data_df_2018.to_sql(name='survey_2018', con=engine, if_exists = 'append', index=False)"
   ]
  },
  {
   "cell_type": "code",
   "execution_count": 101,
   "metadata": {},
   "outputs": [],
   "source": [
    "new_data_df_2019.to_sql(name='survey_2019', con=engine, if_exists = 'append', index=False)"
   ]
  },
  {
   "cell_type": "code",
   "execution_count": null,
   "metadata": {},
   "outputs": [],
   "source": []
  }
 ],
 "metadata": {
  "kernelspec": {
   "display_name": "Python 3",
   "language": "python",
   "name": "python3"
  },
  "language_info": {
   "codemirror_mode": {
    "name": "ipython",
    "version": 3
   },
   "file_extension": ".py",
   "mimetype": "text/x-python",
   "name": "python",
   "nbconvert_exporter": "python",
   "pygments_lexer": "ipython3",
   "version": "3.7.6"
  }
 },
 "nbformat": 4,
 "nbformat_minor": 2
}
